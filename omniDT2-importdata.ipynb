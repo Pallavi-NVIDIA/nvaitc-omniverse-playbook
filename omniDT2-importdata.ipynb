{
 "cells": [
  {
   "cell_type": "markdown",
   "id": "0bd8ae4e-1cc1-4c68-804f-6cbef7761a82",
   "metadata": {},
   "source": [
    "# 2. Custom data aggregation\n",
    "\n",
    "Now that you have built and run a custom Kit application using the sample data provided, it is time to think about the actual data you want to import.\n",
    "\n",
    "Creating a digital twin application involves handling various data types and processes. Let us explore the key data types and processes that your application may need to support. \n",
    "\n",
    "### 3D data:  \n",
    "* Do you or your research team have existing data in different CAD tools?\n",
    "* Can you get 3D assets from manufacturers? Check with the manufacturers of real-world assets to see if they have CAD representations of their products.\n",
    "* Will your team need to scan some assets or create them in-house? \n",
    "* How will your team convert the assets to OpenUSD? \n",
    "\n",
    "* __Real-time, historical, or synthetic data:__ Which kind will it be? Determine the type of data you want to prioritize and visualize, where it will come from, and what format it will arrive in.\n",
    "\n",
    "* __Data integration process:__ What is your simplest or most important use case?  Start with a data integration plan for that use case, and get it working before adding complexity. \n",
    "\n",
    "\n",
    "## Bringing in 3D data\n",
    "\n",
    "End users of your application will import 3D data from various sources like CAD drawings, manufacturer models, or asset libraries. Let's bring in an asset from the NVIDIA library to understand common workflows.\n",
    "\n",
    "* Launch your application from the terminal again.\n",
    "* Use Converters to translate external data to USD for aggregating and editing in Omniverse. You can also use them to export from USD to external formats like FBX or glTF.\n",
    "\n",
    "* [Asset Importer](https://docs.omniverse.nvidia.com/extensions/latest/ext_asset-importer.html)\n",
    "* [CAD Converter](https://docs.omniverse.nvidia.com/extensions/latest/ext_cad-converter/manual.html)\n",
    "* [3MF Converter]()\n",
    "* [GeoJSON Converter]()\n",
    "* [Open Geospatial Consortium (OGC) Map Tile Loader]()\n",
    "* [SimScale Converter]()\n",
    "* [Onshape importer]()\n",
    "\n",
    "\n",
    "## Bringing in non-3D data\n",
    "\n",
    "### Connect SDK\n",
    "We provide an [Omniverse Connect SDK](https://github.com/NVIDIA-Omniverse/connect-samples) with code samples for developers to create OpenUSD connections for other 3D applications or frameworks.\n",
    "\n",
    "Start by cloning the Connect Samples repository into a separate folder (remember to run these commands in a separate terminal window):"
   ]
  },
  {
   "cell_type": "code",
   "execution_count": null,
   "id": "e43a8eb3-09ec-499a-9538-43ebb11d1b37",
   "metadata": {},
   "outputs": [],
   "source": [
    "git clone https://github.com/NVIDIA-Omniverse/connect-samples.git"
   ]
  },
  {
   "cell_type": "markdown",
   "id": "602e6d7e-9c4f-4109-bfa8-aa9c885fd291",
   "metadata": {},
   "source": [
    "Use the provided build script to download all dependencies (e.g USD), create the projects, and compile the code:"
   ]
  },
  {
   "cell_type": "code",
   "execution_count": null,
   "id": "274794b3-417e-44b8-a6dd-c4a06b6962d8",
   "metadata": {},
   "outputs": [],
   "source": [
    ".\\repo.bat build"
   ]
  },
  {
   "cell_type": "markdown",
   "id": "90a4a444-f599-4d3b-8452-14b582840886",
   "metadata": {},
   "source": [
    "Once you have built the samples, you can run their executables to try them.\n",
    "Assembling the minimal requirements for the Connect SDK can be complicated, so there is an install_sdk script that developers run to gather everything into one _install folder. This folder can then be copied into the project structure of the developer’s application. Note that the install_sdk script may be run from either the Connect Samples or the Connect SDK root directory, it is provided with both repositories.\n",
    "\n",
    "Running these commands will generate the _install folder for both debug and release configurations and deep copy them to wherever the sample project is located. Note that if running the install script from the Connect Samples, it is necessary to build them first:"
   ]
  },
  {
   "cell_type": "code",
   "execution_count": null,
   "id": "7db99fbb-b99a-4363-af51-0bfe9c895830",
   "metadata": {},
   "outputs": [],
   "source": [
    "repo.bat build\n",
    "repo.bat install_sdk --config release\n",
    "repo.bat install_sdk --config debug\n",
    "robocopy /s _install $project_root\\connect-sdk > NUL"
   ]
  },
  {
   "cell_type": "markdown",
   "id": "ad6fcef9-4819-493c-97de-ecf7c904963d",
   "metadata": {},
   "source": [
    "The next section takes you through a tutorial which connects your 3D USD data with data from an external application such as Microsoft Excel."
   ]
  }
 ],
 "metadata": {
  "kernelspec": {
   "display_name": "Python 3 (ipykernel)",
   "language": "python",
   "name": "python3"
  },
  "language_info": {
   "codemirror_mode": {
    "name": "ipython",
    "version": 3
   },
   "file_extension": ".py",
   "mimetype": "text/x-python",
   "name": "python",
   "nbconvert_exporter": "python",
   "pygments_lexer": "ipython3",
   "version": "3.11.9"
  }
 },
 "nbformat": 4,
 "nbformat_minor": 5
}
